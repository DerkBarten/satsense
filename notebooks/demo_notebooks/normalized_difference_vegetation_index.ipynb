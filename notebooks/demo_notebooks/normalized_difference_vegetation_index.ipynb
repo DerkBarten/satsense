{
 "cells": [
  {
   "cell_type": "markdown",
   "metadata": {},
   "source": [
    "# Satsense\n",
    "\n",
    "Satsense is a remote sensing python package to facilitate slum detection in satelite images.\n",
    "\n",
    "it comprises several capabilities:\n",
    "* Image utilities - Loading and handling various satelite image formats\n",
    "* Feature detection - Several common features for slum detection\n",
    "* Performance - Performance metrics for detectoin algorithms\n",
    "\n",
    "In this notebook we show how to calculate the normalized difference vegetation index."
   ]
  },
  {
   "cell_type": "code",
   "execution_count": 13,
   "metadata": {},
   "outputs": [
    {
     "name": "stdout",
     "output_type": "stream",
     "text": [
      "The autoreload extension is already loaded. To reload it, use:\n",
      "  %reload_ext autoreload\n"
     ]
    }
   ],
   "source": [
    "# Some common packages used throughout the notebook\n",
    "%load_ext autoreload\n",
    "%autoreload 2\n",
    "\n",
    "# Import the NumPy module\n",
    "import numpy as np\n",
    "\n",
    "# Convient for outputting dictionaries\n",
    "import json\n",
    "\n",
    "import matplotlib.pyplot as plt\n",
    "%matplotlib inline"
   ]
  },
  {
   "cell_type": "code",
   "execution_count": 14,
   "metadata": {},
   "outputs": [],
   "source": [
    "# Supported image formats include RGB, Quickbird and Worldview\n",
    "from satsense import RGB, QUICKBIRD, WORLDVIEW2\n",
    "\n",
    "# URI to the image\n",
    "imagefile = '/home/bweel/Documents/projects/dynaslum/data/satelite/056239125010_01/056239125010_01_P001_MUL/08NOV02054348-M2AS_R1C1-056239125010_01_P001.TIF'\n",
    "# Set the correct format here, it is used throughout the notebook\n",
    "bands = QUICKBIRD"
   ]
  },
  {
   "cell_type": "markdown",
   "metadata": {},
   "source": [
    "## Loading Image\n",
    "\n",
    "To load an image use the `load_from_file` function from the `SatelliteImage` class. This function loads the file using gdal and returns a `SatelliteImage` which holds a number of `numpy ndarrays` with all the layers loaded.\n",
    "\n",
    "The data from the image is available through attributes of the `SatelliteImage` class:\n",
    " * `raw` - The raw data - All layers\n",
    " * `normalized` - the normalized image, values are between 0 and 1 - All layers\n",
    " * `rgb` - the rgb encoded image, values are between 0 and 1 - 3 layers\n",
    " * `grayscale` - the gray encoded image with values between 0 and 1 - 1 layer\n",
    " * `gray_ubyte` - the gray encoded image with values between 0 and 255 - 1 layer"
   ]
  },
  {
   "cell_type": "code",
   "execution_count": 9,
   "metadata": {
    "scrolled": true
   },
   "outputs": [
    {
     "name": "stdout",
     "output_type": "stream",
     "text": [
      "Red band mean: 294.97900390625, min: 0.0, max: 2047.0\n"
     ]
    }
   ],
   "source": [
    "from satsense import SatelliteImage\n",
    "\n",
    "# Loading the file\n",
    "image = SatelliteImage.load_from_file(imagefile, bands)\n",
    "\n",
    "\n",
    "print('Red band mean: {e}, min: {i}, max: {a}'.format(e=image.raw[:, :, bands['red']].mean(),\n",
    "                                                      i=image.raw[:, :, bands['red']].min(),\n",
    "                                                      a=image.raw[:, :, bands['red']].max()))"
   ]
  },
  {
   "cell_type": "code",
   "execution_count": 10,
   "metadata": {},
   "outputs": [
    {
     "name": "stdout",
     "output_type": "stream",
     "text": [
      "Red band mean: 0.38278132677078247, min: 0.0, max: 1.0\n"
     ]
    }
   ],
   "source": [
    "print('Red band mean: {e}, min: {i}, max: {a}'.format(e=image.normalized[:, :, bands['red']].mean(),\n",
    "                                                      i=image.normalized[:, :, bands['red']].min(),\n",
    "                                                      a=image.normalized[:, :, bands['red']].max()))"
   ]
  },
  {
   "cell_type": "markdown",
   "metadata": {},
   "source": [
    "## Normalized Difference Vegitation Index (NDVI)\n",
    "\n",
    "Satsense implements several NDVI metrics:\n",
    "* nirNDVI - Near-Infrared - Red NDVI\n",
    "* rgNDVI - Red - Green NDVI\n",
    "* rbNDVI - Red - Blue NDVI\n",
    "\n",
    "After calling one of the ndvi calculations you can get print some stats using `print_ndvi_stats`"
   ]
  },
  {
   "cell_type": "code",
   "execution_count": 20,
   "metadata": {},
   "outputs": [
    {
     "name": "stdout",
     "output_type": "stream",
     "text": [
      "[ 0.0208087   0.04595233]\n"
     ]
    }
   ],
   "source": [
    "from satsense.generators import CellGenerator\n",
    "from satsense.features import RgNDVI, RbNDVI, NirNDVI, print_ndvi_statistics\n",
    "\n",
    "generator = CellGenerator(image, (25, 25), length=(10, 20))\n",
    "cell = generator.get(102)\n",
    "\n",
    "ndvi = NirNDVI(windows=((25, 25), (50, 50)))\n",
    "stats = ndvi(cell)\n",
    "print(stats)"
   ]
  },
  {
   "cell_type": "code",
   "execution_count": 21,
   "metadata": {},
   "outputs": [
    {
     "ename": "NameError",
     "evalue": "name 'get_rgb_bands' is not defined",
     "output_type": "error",
     "traceback": [
      "\u001b[0;31m---------------------------------------------------------------------------\u001b[0m",
      "\u001b[0;31mNameError\u001b[0m                                 Traceback (most recent call last)",
      "\u001b[0;32m<ipython-input-21-666139a3493d>\u001b[0m in \u001b[0;36m<module>\u001b[0;34m()\u001b[0m\n\u001b[1;32m      1\u001b[0m \u001b[0;31m# Showing the result\u001b[0m\u001b[0;34m\u001b[0m\u001b[0;34m\u001b[0m\u001b[0m\n\u001b[0;32m----> 2\u001b[0;31m \u001b[0mimg\u001b[0m \u001b[0;34m=\u001b[0m \u001b[0mget_rgb_bands\u001b[0m\u001b[0;34m(\u001b[0m\u001b[0mnormalized_image\u001b[0m\u001b[0;34m,\u001b[0m \u001b[0mbands\u001b[0m\u001b[0;34m)\u001b[0m\u001b[0;34m\u001b[0m\u001b[0m\n\u001b[0m\u001b[1;32m      3\u001b[0m \u001b[0mfig\u001b[0m\u001b[0;34m,\u001b[0m \u001b[0;34m(\u001b[0m\u001b[0max1\u001b[0m\u001b[0;34m,\u001b[0m \u001b[0max2\u001b[0m\u001b[0;34m)\u001b[0m \u001b[0;34m=\u001b[0m \u001b[0mplt\u001b[0m\u001b[0;34m.\u001b[0m\u001b[0msubplots\u001b[0m\u001b[0;34m(\u001b[0m\u001b[0;36m1\u001b[0m\u001b[0;34m,\u001b[0m \u001b[0;36m2\u001b[0m\u001b[0;34m,\u001b[0m \u001b[0mfigsize\u001b[0m\u001b[0;34m=\u001b[0m\u001b[0;34m(\u001b[0m\u001b[0;36m18\u001b[0m\u001b[0;34m,\u001b[0m \u001b[0;36m8\u001b[0m\u001b[0;34m)\u001b[0m\u001b[0;34m,\u001b[0m \u001b[0msharex\u001b[0m\u001b[0;34m=\u001b[0m\u001b[0;32mTrue\u001b[0m\u001b[0;34m,\u001b[0m \u001b[0msharey\u001b[0m\u001b[0;34m=\u001b[0m\u001b[0;32mTrue\u001b[0m\u001b[0;34m)\u001b[0m\u001b[0;34m\u001b[0m\u001b[0m\n\u001b[1;32m      4\u001b[0m \u001b[0;34m\u001b[0m\u001b[0m\n\u001b[1;32m      5\u001b[0m \u001b[0max1\u001b[0m\u001b[0;34m.\u001b[0m\u001b[0maxis\u001b[0m\u001b[0;34m(\u001b[0m\u001b[0;34m'off'\u001b[0m\u001b[0;34m)\u001b[0m\u001b[0;34m\u001b[0m\u001b[0m\n",
      "\u001b[0;31mNameError\u001b[0m: name 'get_rgb_bands' is not defined"
     ]
    }
   ],
   "source": [
    "# Showing the result\n",
    "fig, (ax1, ax2) = plt.subplots(1, 2, figsize=(18, 8), sharex=True, sharey=True)\n",
    "\n",
    "ax1.axis('off')\n",
    "ax1.imshow(cell.rgb)\n",
    "ax1.set_title('Input image')\n",
    "ax1.set_adjustable('box-forced')\n",
    "\n",
    "ax2.axis('off')\n",
    "ax2.imshow(ndvi)\n",
    "ax2.set_title('NDVI')\n",
    "ax1.set_adjustable('box-forced')\n",
    "plt.show()"
   ]
  },
  {
   "cell_type": "code",
   "execution_count": null,
   "metadata": {
    "collapsed": true
   },
   "outputs": [],
   "source": []
  }
 ],
 "metadata": {
  "kernelspec": {
   "display_name": "Python 3",
   "language": "python",
   "name": "python3"
  },
  "language_info": {
   "codemirror_mode": {
    "name": "ipython",
    "version": 3
   },
   "file_extension": ".py",
   "mimetype": "text/x-python",
   "name": "python",
   "nbconvert_exporter": "python",
   "pygments_lexer": "ipython3",
   "version": "3.6.5"
  }
 },
 "nbformat": 4,
 "nbformat_minor": 2
}
